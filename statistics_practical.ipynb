{
  "nbformat": 4,
  "nbformat_minor": 0,
  "metadata": {
    "colab": {
      "provenance": [],
      "authorship_tag": "ABX9TyNcaOfrxH3PvIdRtfIGXviw",
      "include_colab_link": true
    },
    "kernelspec": {
      "name": "python3",
      "display_name": "Python 3"
    },
    "language_info": {
      "name": "python"
    }
  },
  "cells": [
    {
      "cell_type": "markdown",
      "metadata": {
        "id": "view-in-github",
        "colab_type": "text"
      },
      "source": [
        "<a href=\"https://colab.research.google.com/github/Bhushan2002/flutterfire/blob/master/statistics_practical.ipynb\" target=\"_parent\"><img src=\"https://colab.research.google.com/assets/colab-badge.svg\" alt=\"Open In Colab\"/></a>"
      ]
    },
    {
      "cell_type": "markdown",
      "source": [],
      "metadata": {
        "id": "F9gYuZ8mQzuV"
      }
    },
    {
      "cell_type": "markdown",
      "source": [
        "mean"
      ],
      "metadata": {
        "id": "p9KKYIJlQ2rt"
      }
    },
    {
      "cell_type": "code",
      "execution_count": 2,
      "metadata": {
        "colab": {
          "base_uri": "https://localhost:8080/"
        },
        "id": "FhNBT_5yAN7V",
        "outputId": "240bb003-e219-4b78-8b56-9899b619dc7f"
      },
      "outputs": [
        {
          "output_type": "stream",
          "name": "stdout",
          "text": [
            "Enter list of numbers: 2 4 6 8 10 12 14\n",
            "mean of given list of numbers: 8.0\n"
          ]
        }
      ],
      "source": [
        "import statistics\n",
        "\n",
        "input_str = input(\"Enter list of numbers: \")\n",
        "\n",
        "try:\n",
        "  num = [float(x) for x  in input_str.split()]\n",
        "  mean = statistics.mean(num)\n",
        "\n",
        "  print(f\"mean of given list of numbers: {mean}\")\n",
        "except ValueError:\n",
        "  print(\"Invalid input, please enter list of numbers.\")"
      ]
    },
    {
      "cell_type": "markdown",
      "source": [
        "median\n"
      ],
      "metadata": {
        "id": "p1nWMMffQx0p"
      }
    },
    {
      "cell_type": "code",
      "source": [
        "import statistics\n",
        "\n",
        "def calculate_median(number):\n",
        "  sorted_number = sorted(number)\n",
        "  n  = len(sorted_number)\n",
        "  if n% 2==0:\n",
        "    middle1 = sorted_number[n//2 - 1]\n",
        "    middle2 = sorted_number[n//2]\n",
        "    median = (middle1 +middle2) /2\n",
        "  else:\n",
        "    median = sorted_number[n//2]\n",
        "\n",
        "  return median\n",
        "\n",
        "try:\n",
        "  input_str = input(\"Enter list of number: \")\n",
        "  numbers = [float(x) for x in input_str.split()]\n",
        "  median = calculate_median(numbers)\n",
        "  print(f\"Median of list is {median}\")\n",
        "except ValueError:\n",
        "  print(\"Invalid input..\")\n",
        "\n"
      ],
      "metadata": {
        "colab": {
          "base_uri": "https://localhost:8080/"
        },
        "id": "9pNTwTpMBv0Y",
        "outputId": "7645f5bf-e4d9-438d-c8ee-311463cb5367"
      },
      "execution_count": 7,
      "outputs": [
        {
          "output_type": "stream",
          "name": "stdout",
          "text": [
            "Enter list of number: 2 5 6 4 2 2\n",
            "Median of list is 3.0\n"
          ]
        }
      ]
    },
    {
      "cell_type": "markdown",
      "source": [
        "mode"
      ],
      "metadata": {
        "id": "PN2thqkQQwdT"
      }
    },
    {
      "cell_type": "code",
      "source": [
        "\n",
        "from collections import Counter\n",
        "\n",
        "def calculate_mode(numbers):\n",
        "    counts = Counter(numbers)\n",
        "\n",
        "    max_count = max (counts.values())\n",
        "    mode = [num for num, count in counts.items() if count == max_count]\n",
        "    return mode\n",
        "\n",
        "try:\n",
        "    num = [float(x) for x in input(\"enter list of numbers: \").split()]\n",
        "    mode = calculate_mode(num)\n",
        "    if not mode:\n",
        "        print(\"no mode found. all numbers occurs with same frequency.\")\n",
        "\n",
        "    else:\n",
        "        if len(mode) == 1:\n",
        "            print(f\"mode of given list is {mode[0]}\")\n",
        "        else:\n",
        "            print(f\"mode are: {','.join(map(str,mode))}\")\n",
        "except ValueError:\n",
        "    print('invalid input')"
      ],
      "metadata": {
        "colab": {
          "base_uri": "https://localhost:8080/"
        },
        "id": "iXD4IjPJEZj2",
        "outputId": "1dda2e07-9164-487c-939d-29d6258b073f"
      },
      "execution_count": 11,
      "outputs": [
        {
          "output_type": "stream",
          "name": "stdout",
          "text": [
            "enter list of numbers: 2 1 3 4 5 2 4 6 \n",
            "mode are: 2.0,4.0\n"
          ]
        }
      ]
    },
    {
      "cell_type": "markdown",
      "source": [
        "Standard deviation\n"
      ],
      "metadata": {
        "id": "NIA3ssASQsCW"
      }
    },
    {
      "cell_type": "code",
      "source": [
        "\n",
        "import math\n",
        "data = [2.3,4.5,1.3,5.3,3.8]\n",
        "std_dev = statistics.stdev(data)\n",
        "print(f\"Standard Deviation : {std_dev}\")"
      ],
      "metadata": {
        "colab": {
          "base_uri": "https://localhost:8080/"
        },
        "id": "exGRZSZUJERG",
        "outputId": "34c07fa1-ddbe-4d3f-8429-6afbd50c34a0"
      },
      "execution_count": 13,
      "outputs": [
        {
          "output_type": "stream",
          "name": "stdout",
          "text": [
            "Standard Deviation : 1.6272676485446393\n"
          ]
        }
      ]
    },
    {
      "cell_type": "markdown",
      "source": [
        "standard deviaction for grouped data."
      ],
      "metadata": {
        "id": "WB53WHY1Qifw"
      }
    },
    {
      "cell_type": "code",
      "source": [
        "import math\n",
        "\n",
        "# Function to calculate the midpoint of a class interval\n",
        "def midpoint(lower_bound, upper_bound):\n",
        "    return (lower_bound + upper_bound) / 2\n",
        "\n",
        "# Grouped data (class intervals and corresponding frequencies)\n",
        "class_intervals = [(10, 20), (20, 30), (30, 40), (40, 50)]\n",
        "frequencies = [5, 8, 12, 7]\n",
        "\n",
        "# Calculate the mean of the data\n",
        "midpoints = [midpoint(lower, upper) for lower, upper in class_intervals]\n",
        "total_frequency = sum(frequencies)\n",
        "mean = sum(midpoint * frequency for midpoint, frequency in zip(midpoints, frequencies)) / total_frequency\n",
        "\n",
        "# Calculate the sum of squared differences from the mean\n",
        "squared_diff_sum = sum(frequency * (midpoint - mean) ** 2 for midpoint, frequency in zip(midpoints, frequencies))\n",
        "\n",
        "# Calculate the standard deviation\n",
        "std_dev = math.sqrt(squared_diff_sum / total_frequency)\n",
        "\n",
        "print(\"Standard Deviation for Grouped Data:\", std_dev)\n"
      ],
      "metadata": {
        "colab": {
          "base_uri": "https://localhost:8080/"
        },
        "id": "rBS_XVQzQhHW",
        "outputId": "7bfd0b19-bd2a-47e8-874c-51a3adfb232d"
      },
      "execution_count": 14,
      "outputs": [
        {
          "output_type": "stream",
          "name": "stdout",
          "text": [
            "Standard Deviation for Grouped Data: 9.877175393299442\n"
          ]
        }
      ]
    },
    {
      "cell_type": "markdown",
      "source": [
        "calculate range of given value."
      ],
      "metadata": {
        "id": "DNoLjs0wRDwI"
      }
    },
    {
      "cell_type": "code",
      "source": [
        "def calculate_range(numbers):\n",
        "  if not numbers:\n",
        "    return None\n",
        "  min_value  = min(numbers)\n",
        "  max_value = max(numbers)\n",
        "  data_range = max_value - min_value\n",
        "  return data_range\n",
        "\n",
        "try:\n",
        "  num = [float(x) for x in input(\"Enter list of numbers: \").split()]\n",
        "\n",
        "  range = calculate_range(num)\n",
        "  print(f\"The range of list is {range}\")\n",
        "\n",
        "except ValueError:\n",
        "  print(\"Invalid input.....\")"
      ],
      "metadata": {
        "colab": {
          "base_uri": "https://localhost:8080/"
        },
        "id": "Olpyyul_RBfw",
        "outputId": "2751d332-f40e-451d-838b-cdcc6cee6d98"
      },
      "execution_count": 16,
      "outputs": [
        {
          "output_type": "stream",
          "name": "stdout",
          "text": [
            "Enter list of numbers: 2 5 6 4 5\n",
            "The range of list is 4.0\n"
          ]
        }
      ]
    },
    {
      "cell_type": "markdown",
      "source": [
        "**calculate probability**\n"
      ],
      "metadata": {
        "id": "kmHRXwZoSN9a"
      }
    },
    {
      "cell_type": "code",
      "source": [
        "def calculate_probability(fav_outcome, total_outcome):\n",
        "    if total_outcome == 0:\n",
        "        return None\n",
        "    prob = fav_outcome / total_outcome\n",
        "    return prob\n",
        "\n",
        "try:\n",
        "    fav_outcome = float(input(\"Enter the number of favorable outcomes: \"))\n",
        "    total_outcome = float(input(\"Enter the number of total outcomes: \"))\n",
        "    prob = calculate_probability(fav_outcome, total_outcome)\n",
        "\n",
        "    if prob is not None:\n",
        "        print(f\"The probability is: {prob:.4f}\")\n",
        "    else:\n",
        "        print(\"Invalid input, total outcomes cannot be zero.\")\n",
        "except ValueError:\n",
        "    print(\"Invalid input. Please enter valid numerical values for the outcomes.\")"
      ],
      "metadata": {
        "colab": {
          "base_uri": "https://localhost:8080/"
        },
        "id": "DDL7xr6ESXWI",
        "outputId": "89b2c117-d342-4b84-b6e6-f1be5ed8e82e"
      },
      "execution_count": 19,
      "outputs": [
        {
          "output_type": "stream",
          "name": "stdout",
          "text": [
            "Enter the number of favorable outcomes: 20\n",
            "Enter the number of total outcomes: 4\n",
            "The probability is: 5.0000\n"
          ]
        }
      ]
    },
    {
      "cell_type": "markdown",
      "source": [
        "calculate correlation of the given values or the series of values\n"
      ],
      "metadata": {
        "id": "DHSqAP5Sn2ZN"
      }
    },
    {
      "cell_type": "code",
      "source": [
        "import numpy as np\n",
        "def calculate_correlation(x,y):\n",
        "  x_mean = np.mean(x)\n",
        "  y_mean = np.mean(y)\n",
        "\n",
        "  x_diff = x - x_mean\n",
        "  y_diff = y - y_mean\n",
        "\n",
        "  convariance = np.sum(x_diff * y_diff)/ len(x)\n",
        "\n",
        "  x_std = np.std(x)\n",
        "  y_std = np.std(y)\n",
        "\n",
        "  correlation = convariance / (x_std * y_std)\n",
        "  return correlation\n",
        "\n",
        "x =[1,2,3,4,5]\n",
        "y=[2,4,6,8,10]\n",
        "\n",
        "\n",
        "correlation = calculate_correlation(x,y)\n",
        "print(\"correlation: \",correlation)\n",
        ""
      ],
      "metadata": {
        "colab": {
          "base_uri": "https://localhost:8080/"
        },
        "id": "xP2QsfODoEMj",
        "outputId": "e4e47e6a-2e6d-4661-d412-39570164bfe5"
      },
      "execution_count": 2,
      "outputs": [
        {
          "output_type": "stream",
          "name": "stdout",
          "text": [
            "correlation:  0.9999999999999998\n"
          ]
        }
      ]
    },
    {
      "cell_type": "markdown",
      "source": [
        "**calculate probability using binomial**\n"
      ],
      "metadata": {
        "id": "Z6A1kj4MqybO"
      }
    },
    {
      "cell_type": "code",
      "source": [
        "import math\n",
        "\n",
        "def binomial_probability(n, k, p):\n",
        "    # Calculate the binomial coefficient\n",
        "    binomial_coefficient = math.comb(n, k)\n",
        "\n",
        "    # Calculate the probability using the binomial distribution formula\n",
        "    probability = binomial_coefficient * (p ** k) * ((1 - p) ** (n - k))\n",
        "\n",
        "    return probability\n",
        "\n",
        "try:\n",
        "    n = int(input(\"Enter the number of trials (n): \"))\n",
        "    k = int(input(\"Enter the number of successes (k): \"))\n",
        "    p = float(input(\"Enter the probability of success on a single trial (p): \"))\n",
        "\n",
        "    if 0 <= p <= 1:\n",
        "        probability = binomial_probability(n, k, p)\n",
        "        print(f\"The probability of getting {k} successes in {n} trials is: {probability:.4f}\")\n",
        "    else:\n",
        "        print(\"Invalid probability value. Probability must be between 0 and 1.\")\n",
        "except ValueError:\n",
        "    print(\"Invalid input. Please enter valid numerical values.\")\n"
      ],
      "metadata": {
        "colab": {
          "base_uri": "https://localhost:8080/"
        },
        "id": "eWHt0Hkyq7SD",
        "outputId": "6c346b3a-e66e-4e36-e1e9-e12d5609034e"
      },
      "execution_count": 3,
      "outputs": [
        {
          "output_type": "stream",
          "name": "stdout",
          "text": [
            "Enter the number of trials (n): 5\n",
            "Enter the number of successes (k): 2\n",
            "Enter the probability of success on a single trial (p): 0.3\n",
            "The probability of getting 2 successes in 5 trials is: 0.3087\n"
          ]
        }
      ]
    },
    {
      "cell_type": "markdown",
      "source": [
        "differentiate list and tuple"
      ],
      "metadata": {
        "id": "h-iDBD0Wr6-w"
      }
    },
    {
      "cell_type": "code",
      "source": [
        "def differentiate_list_tuple(data):\n",
        "    if isinstance(data, list):\n",
        "        print(\"The given object is a list.\")\n",
        "        print(f\"{len(data)}\")\n",
        "    elif isinstance(data, tuple):\n",
        "        print(\"The given object is a tuple.\")\n",
        "        print(f\"{len(data)}\")\n",
        "    else:\n",
        "        print(\"The given object is neither a list nor a tuple.\")\n",
        "\n",
        "# Example usage:\n",
        "example_list = [1, 2, 3]\n",
        "example_tuple = (4, 5, 6)\n",
        "example_other = {7, 8, 9}\n",
        "\n",
        "differentiate_list_tuple(example_list)\n",
        "differentiate_list_tuple(example_tuple)\n",
        "differentiate_list_tuple(example_other)\n"
      ],
      "metadata": {
        "colab": {
          "base_uri": "https://localhost:8080/"
        },
        "id": "teMJlpICsGoh",
        "outputId": "0455e90a-c6d7-4881-abf7-5e58dc1de355"
      },
      "execution_count": 8,
      "outputs": [
        {
          "output_type": "stream",
          "name": "stdout",
          "text": [
            "The given object is a list.\n",
            "3\n",
            "The given object is a tuple.\n",
            "3\n",
            "The given object is neither a list nor a tuple.\n"
          ]
        }
      ]
    },
    {
      "cell_type": "code",
      "source": [],
      "metadata": {
        "id": "xsP4ui7SsTK9"
      },
      "execution_count": null,
      "outputs": []
    }
  ]
}